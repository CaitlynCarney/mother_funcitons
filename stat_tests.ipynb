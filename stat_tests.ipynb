{
 "cells": [
  {
   "cell_type": "code",
   "execution_count": 84,
   "metadata": {},
   "outputs": [],
   "source": [
    "import pandas as pd\n",
    "import numpy as np\n",
    "\n",
    "import seaborn as sns\n",
    "import matplotlib.pyplot as plt\n",
    "\n",
    "from scipy import stats\n",
    "from math import sqrt"
   ]
  },
  {
   "cell_type": "code",
   "execution_count": 17,
   "metadata": {},
   "outputs": [],
   "source": [
    "df = pd.read_csv('pokemon.csv')"
   ]
  },
  {
   "cell_type": "code",
   "execution_count": 32,
   "metadata": {},
   "outputs": [],
   "source": [
    "df['Type 1'] = df['Type 1'].fillna(value = 'None')\n",
    "df['Type 2'] = df['Type 1'].fillna(value = 'None')\n",
    "df.dropna(inplace = True)\n",
    "df = df.rename(columns={'Pokemon Id':'pokemon_id', 'Type 1':'type_1', \n",
    "                        'Type 2':'type_2', 'Sp. Atk':'sp_atk',\n",
    "                        'Sp. Def':'sp_def'})"
   ]
  },
  {
   "cell_type": "markdown",
   "metadata": {},
   "source": [
    "___\n",
    "## Chi Square Testing\n",
    "- experiment is trying to draw a comparison or find the difference between the two categorical random variables, then you can use the chi-square test, to test the statistical difference."
   ]
  },
  {
   "cell_type": "code",
   "execution_count": 164,
   "metadata": {},
   "outputs": [],
   "source": [
    "def chi_2(df, cat_1, cat_2):\n",
    "    '''performs a chi2 test by taking in a df, and 2 features'''\n",
    "    null_hypo = f'{cat_1} & {cat_2} are independent from each other.'\n",
    "    alt_hypo = f'{cat_1} & {cat_2} are dependent from one another.'\n",
    "    # set alpha\n",
    "    alpha = 0.05\n",
    "    observed = pd.crosstab(df[cat_1], df[cat_2], margins = True)\n",
    "    chi2, p, degf, expected = stats.chi2_contingency(observed)\n",
    "    if p < alpha:\n",
    "        print(f'Reject null hypothesis')\n",
    "        print(f'There is evidence to suggest {cat_1} and {cat_2} are dependent on one another.')\n",
    "    else:\n",
    "        print(f'Fail to reject the null hypothesis.')\n",
    "        print(f'There is not sufficient evidence to reject independence of {cat_1} and {cat_2}.')\n",
    "        print(f'Move forward with althernative hypothesis: \\n{alt_hypo}')"
   ]
  },
  {
   "cell_type": "code",
   "execution_count": 167,
   "metadata": {},
   "outputs": [
    {
     "name": "stdout",
     "output_type": "stream",
     "text": [
      "Reject null hypothesis\n",
      "There is evidence to suggest type_1 and type_2 are dependent on one another.\n"
     ]
    }
   ],
   "source": [
    "chi_2(df, 'type_1', 'type_2')"
   ]
  },
  {
   "cell_type": "markdown",
   "metadata": {},
   "source": [
    "___"
   ]
  },
  {
   "cell_type": "markdown",
   "metadata": {},
   "source": [
    "## Anova Testing\n",
    "- When your experiment is trying to draw a comparison or find the difference between one categorical (with more than two categories) and another continuous variable, then you use the ANOVA (Analysis of Variance) test."
   ]
  },
  {
   "cell_type": "code",
   "execution_count": 37,
   "metadata": {},
   "outputs": [
    {
     "data": {
      "text/plain": [
       "1.0    166\n",
       "5.0    165\n",
       "3.0    160\n",
       "4.0    121\n",
       "2.0    106\n",
       "6.0     81\n",
       "Name: Generation, dtype: int64"
      ]
     },
     "execution_count": 37,
     "metadata": {},
     "output_type": "execute_result"
    }
   ],
   "source": [
    "df.Generation.value_counts()"
   ]
  },
  {
   "cell_type": "code",
   "execution_count": 78,
   "metadata": {},
   "outputs": [],
   "source": [
    "def anova_test(df, cat, cont):\n",
    "    '''performs an ANOVA test based on df and a continnuous & categorical feature'''\n",
    "    null_hypo = f'There is no difference in between each {cat} and the {cont}'\n",
    "    alt_hypo = f'There is a difference between at least 2 of the {cat}\\'s and the {cont}'\n",
    "    alpha = 0.05\n",
    "    f, p = stats.f_oneway(\n",
    "        df[cont][df[cat]==1.0],\n",
    "        df[cont][df[cat]==2.0],\n",
    "        df[cont][df[cat]==3.0],\n",
    "        df[cont][df[cat]==4.0],\n",
    "        df[cont][df[cat]==5.0],\n",
    "        df[cont][df[cat]==6.0])\n",
    "    if p > alpha:\n",
    "        print('Failed to reject the null hypothesis!')\n",
    "        print(f'No significant difference in the means between the {cat}.')\n",
    "    else:\n",
    "        print(f'There\\'s evidence to suggest at least 2 of these {cont}\\'s have different means for {cat}.')"
   ]
  },
  {
   "cell_type": "code",
   "execution_count": 79,
   "metadata": {},
   "outputs": [
    {
     "name": "stdout",
     "output_type": "stream",
     "text": [
      "There's evidence to suggest at least 2 of these Generation's have different means for Speed.\n"
     ]
    },
    {
     "name": "stderr",
     "output_type": "stream",
     "text": [
      "/usr/local/anaconda3/lib/python3.8/site-packages/scipy/stats/stats.py:3612: F_onewayBadInputSizesWarning: at least one input has length 0\n",
      "  warnings.warn(F_onewayBadInputSizesWarning('at least one input '\n"
     ]
    }
   ],
   "source": [
    "anova_test(df, 'Speed', 'Generation')"
   ]
  },
  {
   "cell_type": "markdown",
   "metadata": {},
   "source": [
    "___ \n",
    "## Pearson R\n",
    "- Checks for correlation between 2 different continuous variables\n",
    "- measure the degree of relationships between two linearly related variables."
   ]
  },
  {
   "cell_type": "code",
   "execution_count": 150,
   "metadata": {},
   "outputs": [],
   "source": [
    "def pearson_r(df, cont_1, cont_2):\n",
    "    '''Runs a pearson r coefficient statistical test to find correlation'''\n",
    "    null_hypo = f'There is no correlation between {cont_1} and {cont_2}.'\n",
    "    alt_hypo = f'There is correlation between {cont_1} and {cont_2}.'\n",
    "    corr, p = stats.pearsonr(df[cont_1], df[cont_2])\n",
    "    alpha = 0.05\n",
    "    if p > alpha:\n",
    "        return print(\"We fail to reject the null hypothesis. The null hypothesis is that\", null_hypo)\n",
    "    else:\n",
    "        return print(\"We reject the null hypothesis that\", null_hypo)"
   ]
  },
  {
   "cell_type": "code",
   "execution_count": 153,
   "metadata": {},
   "outputs": [
    {
     "name": "stdout",
     "output_type": "stream",
     "text": [
      "We reject the null hypothesis that There is no correlation between Speed and Attack.\n"
     ]
    }
   ],
   "source": [
    "pearson_r(df, 'Speed', 'Attack')"
   ]
  },
  {
   "cell_type": "markdown",
   "metadata": {},
   "source": [
    "___\n",
    "# ALL T-TESTS"
   ]
  },
  {
   "cell_type": "markdown",
   "metadata": {},
   "source": [
    "___\n",
    "## One sample one tailed t-test\n",
    "- One Tailed checks if one mean is greater than or less than the other\n",
    "- To test if the means are higher, we evaluate (p/2) < a and t > 0 (to test if higher)\n",
    "- For checking if less-than, we do (p/2) < a and  t < 0\n",
    "- One Sample t-test compares the mean of a subgroup to the mean of a population\n",
    "    - One sample example is Sunday tips vs. the rest of the week tips"
   ]
  },
  {
   "cell_type": "code",
   "execution_count": 111,
   "metadata": {},
   "outputs": [],
   "source": [
    "def one_sample_one_tail_ttest_greater(df, cat, cont, value_1, value_2):\n",
    "    '''This function takes in the data set and runs a one tailed t-test.\n",
    "    one sample one tailed ttests:\n",
    "        one sample:\n",
    "            - compares the mean of a subgroup to the mean of a population\n",
    "        one tailed:\n",
    "            - checks if one mean is greater than or less than the other'''\n",
    "    null_hypo = f'There is no difference in the mean of {cont} with {cat} = {value_1} and {cat} = {value_2}.'\n",
    "    alt_hypo = f'The average {cont} where {cat} = {value_1} is greater than {cat} = {value_2}'\n",
    "    # set alpha\n",
    "    alpha = .05\n",
    "    # set the value for comparison\n",
    "    value_1 = df[df[cat] == value_1]\n",
    "    value_2 = df[df[cat] == value_2]\n",
    "    # make the needed values\n",
    "    μ = df[cont].mean()\n",
    "    xbar = df[cont].mean()\n",
    "    s = df[cont].std()\n",
    "    n = df.shape[0]\n",
    "    degf = n - 1\n",
    "    standard_error = s / sqrt(n)\n",
    "    t = (xbar - μ) / (s / sqrt(n))\n",
    "    p = stats.t(degf).sf(t)\n",
    "    if (p/2) < alpha and t > 0:\n",
    "        print(f'Reject the null hypothesis that: \\n {null_hypo}')\n",
    "        print(alt_hypo)\n",
    "    else:\n",
    "        print(null_hypo)"
   ]
  },
  {
   "cell_type": "code",
   "execution_count": 115,
   "metadata": {},
   "outputs": [
    {
     "name": "stdout",
     "output_type": "stream",
     "text": [
      "There is no difference in the mean of Speed with type_1 = Grass and type_1 = Fire.\n"
     ]
    }
   ],
   "source": [
    "one_sample_one_tail_ttest_greater(df, 'type_1', 'Speed', 'Grass', 'Fire')"
   ]
  },
  {
   "cell_type": "code",
   "execution_count": 121,
   "metadata": {},
   "outputs": [],
   "source": [
    "def one_sample_one_tail_ttest_lesser(df, cat, cont, value):\n",
    "    '''This function takes in the data set and runs a one tailed t-test.\n",
    "    one sample one tailed ttests:\n",
    "        one sample:\n",
    "            - compares the mean of a subgroup to the mean of a population\n",
    "        one tailed:\n",
    "            - checks if one mean is greater than or less than the other'''\n",
    "    null_hypo = f'There is no difference in the mean of {cont} with {cat} = {value} and {cat} != {value}.'\n",
    "    alt_hypo = f'The average {cont} where {cat} = {value} is greater than {cat} != {value}'\n",
    "    # set alpha\n",
    "    alpha = .05\n",
    "    # set the value for comparison\n",
    "    value = df[df[cat] == value]\n",
    "    population = df[df[cat] != value]\n",
    "    # make the needed values\n",
    "    μ = df[cont].mean()\n",
    "    xbar = df[cont].mean()\n",
    "    s = df[cont].std()\n",
    "    n = df.shape[0]\n",
    "    degf = n - 1\n",
    "    standard_error = s / sqrt(n)\n",
    "    t = (xbar - μ) / (s / sqrt(n))\n",
    "    p = stats.t(degf).sf(t)\n",
    "    if (p/2) < alpha and t < 0:\n",
    "        print(f'Reject the null hypothesis that: \\n {null_hypo}')\n",
    "        print(alt_hypo)\n",
    "    else:\n",
    "        print(null_hypo)"
   ]
  },
  {
   "cell_type": "code",
   "execution_count": 122,
   "metadata": {},
   "outputs": [
    {
     "name": "stdout",
     "output_type": "stream",
     "text": [
      "There is no difference in the mean of Speed with type_1 = Grass and type_1 != Grass.\n"
     ]
    }
   ],
   "source": [
    "one_sample_one_tail_ttest_lesser(df, 'type_1', 'Speed', 'Grass')"
   ]
  },
  {
   "cell_type": "markdown",
   "metadata": {},
   "source": [
    "___\n",
    "## One sample two tailed t-test\n",
    "- A two-tailed t-test is measuring for any difference, regardless of direction (means of one group higher or lower)\n",
    "- The two-tailed t-test is checking if the means of two groups are different\n",
    "- One Sample t-test compares the mean of a subgroup to the mean of a population\n",
    "    - One sample example is Sunday tips vs. the rest of the week tips"
   ]
  },
  {
   "cell_type": "code",
   "execution_count": 130,
   "metadata": {},
   "outputs": [],
   "source": [
    "def one_sample_two_tail_ttest(df, cat, cont, value):\n",
    "    '''This function takes in the data set and runs a one sample two tailed ttest:\n",
    "        one sample:\n",
    "            - compares the mean of a subgroup to the mean of a population\n",
    "        two tailed:\n",
    "            - measuring for any difference, regardless of direction'''\n",
    "    null_hypo = f'There is no difference in the mean of {cont} between {cat} = {value} and {cat} != {value}.'\n",
    "    alt_hypo = f'There is a significant difference between the average {cont} between {cat} = {value} and {cat} != {value}'\n",
    "    # set alpha\n",
    "    alpha = .05\n",
    "    # set the value for comparison\n",
    "    value = df[df[cat] == value]\n",
    "    population = df[df[cat] != value]\n",
    "    # make the needed values\n",
    "    μ = df[cont].mean()\n",
    "    xbar = df[cont].mean()\n",
    "    s = df[cont].std()\n",
    "    n = df.shape[0]\n",
    "    degf = n - 1\n",
    "    standard_error = s / sqrt(n)\n",
    "    t = (xbar - μ) / (s / sqrt(n))\n",
    "    p = stats.t(degf).sf(t) * 2 # *2 for two-tailed test\n",
    "    if p < alpha:\n",
    "        print(f'Reject the null hypothesis that: \\n {null_hypo}')\n",
    "        print(alt_hypo)\n",
    "    else:\n",
    "        print(null_hypo)"
   ]
  },
  {
   "cell_type": "code",
   "execution_count": 131,
   "metadata": {},
   "outputs": [
    {
     "name": "stdout",
     "output_type": "stream",
     "text": [
      "There is no difference in the mean of Speed between type_1 = Grass and type_1 != Grass.\n"
     ]
    }
   ],
   "source": [
    "one_sample_two_tail_ttest(df, 'type_1', 'Speed', 'Grass')"
   ]
  },
  {
   "cell_type": "markdown",
   "metadata": {},
   "source": [
    "___\n",
    "## Two sample two tailed t-test\n",
    "- A two-tailed t-test is measuring for any difference, regardless of direction (means of one group higher or lower)\n",
    "- The two-tailed t-test is checking if the means of two groups are different\n",
    "- The two sample t-test compares the means of two subgroups\n",
    "    - A two-sample t-test would be comparing average tips between smokers vs. nonsmokers"
   ]
  },
  {
   "cell_type": "code",
   "execution_count": 132,
   "metadata": {},
   "outputs": [],
   "source": [
    "def two_sample_two_tail_ttest(df, cat, cont, value_1, value_2):\n",
    "    '''This function takes in the data set and runs a one tailed t-test.\n",
    "    one sample one tailed ttests:\n",
    "        two sample:\n",
    "            - compares the means of two subgroups\n",
    "        two tailed:\n",
    "            - measuring for any difference, regardless of direction'''\n",
    "    null_hypo = f'There is no difference in the mean of average {cont} between {cat} = {value_1} and {cat} = {value_2}.'\n",
    "    alt_hypo = f'There is a significant difference between the average {cont} between {cat} = {value_1} and {cat} = {value_2}'\n",
    "    # set alpha\n",
    "    alpha = .05\n",
    "    # set the value for comparison\n",
    "    value_1 = df[df[cat] == value_1]\n",
    "    value_2 = df[df[cat] == value_2]\n",
    "    # make the needed values\n",
    "    μ = df[cont].mean()\n",
    "    xbar = df[cont].mean()\n",
    "    s = df[cont].std()\n",
    "    n = df.shape[0]\n",
    "    degf = n - 1\n",
    "    standard_error = s / sqrt(n)\n",
    "    t = (xbar - μ) / (s / sqrt(n))\n",
    "    p = stats.t(degf).sf(t) * 2 # *2 for two-tailed test\n",
    "    if p < alpha:\n",
    "        print(f'Reject the null hypothesis that: \\n {null_hypo}')\n",
    "        print(alt_hypo)\n",
    "    else:\n",
    "        print(null_hypo)"
   ]
  },
  {
   "cell_type": "code",
   "execution_count": 133,
   "metadata": {},
   "outputs": [
    {
     "name": "stdout",
     "output_type": "stream",
     "text": [
      "There is no difference in the mean of average Speed between type_1 = Grass and type_1 = Fire.\n"
     ]
    }
   ],
   "source": [
    "two_sample_two_tail_ttest(df, 'type_1', 'Speed', 'Grass', 'Fire')"
   ]
  },
  {
   "cell_type": "markdown",
   "metadata": {},
   "source": [
    "___\n",
    "## Two sample one tailed t-test\n",
    "- One Tailed checks if one mean is greater than or less than the other\n",
    "- To test if the means are higher, we evaluate (p/2) < a and t > 0 (to test if higher)\n",
    "- For checking if less-than, we do (p/2) < a and  t < 0\n",
    "- The two sample t-test compares the means of two subgroups\n",
    "    - A two-sample t-test would be comparing average tips between smokers vs. nonsmokers"
   ]
  },
  {
   "cell_type": "code",
   "execution_count": 136,
   "metadata": {},
   "outputs": [],
   "source": [
    "def two_sample_one_tail_ttest_greater(df, cat, cont, value_1, value_2):\n",
    "    '''This function takes in the data set and runs a one tailed t-test.\n",
    "    one sample one tailed ttests:\n",
    "        two sample:\n",
    "            - compares the means of two subgroups\n",
    "        one tailed:\n",
    "            - checks if one mean is greater than or less than the other'''\n",
    "    null_hypo = f'There is no difference in the mean of {cont} with {cat} = {value_1} and {cat} = {value_2}.'\n",
    "    alt_hypo = f'The average {cont} where {cat} = {value_1} is greater than {cat} = {value_2}'\n",
    "    # set alpha\n",
    "    alpha = .05\n",
    "    # set the value for comparison\n",
    "    value_1 = df[df[cat] == value_1]\n",
    "    value_2 = df[df[cat] == value_2]\n",
    "    # make the needed values\n",
    "    μ = df[cont].mean()\n",
    "    xbar = df[cont].mean()\n",
    "    s = df[cont].std()\n",
    "    n = df.shape[0]\n",
    "    degf = n - 1\n",
    "    standard_error = s / sqrt(n)\n",
    "    t = (xbar - μ) / (s / sqrt(n))\n",
    "    p = stats.t(degf).sf(t)\n",
    "    if (p/2) < alpha and t > 0:\n",
    "        print(f'Reject the null hypothesis that: \\n {null_hypo}')\n",
    "        print(alt_hypo)\n",
    "    else:\n",
    "        print(null_hypo)"
   ]
  },
  {
   "cell_type": "code",
   "execution_count": 137,
   "metadata": {},
   "outputs": [
    {
     "name": "stdout",
     "output_type": "stream",
     "text": [
      "There is no difference in the mean of Speed with type_1 = Grass and type_1 = Fire.\n"
     ]
    }
   ],
   "source": [
    "two_sample_one_tail_ttest_greater(df, 'type_1', 'Speed', 'Grass', 'Fire')"
   ]
  },
  {
   "cell_type": "code",
   "execution_count": 141,
   "metadata": {},
   "outputs": [],
   "source": [
    "def two_sample_one_tail_ttest_lesser(df, cat, cont, value_1, value_2):\n",
    "    '''This function takes in the data set and runs a one tailed t-test.\n",
    "    one sample one tailed ttests:\n",
    "        two sample:\n",
    "            - compares the means of two subgroups\n",
    "        one tailed:\n",
    "            - checks if one mean is greater than or less than the other'''\n",
    "    null_hypo = f'There is no difference in the mean of {cont} with {cat} = {value_1} and {cat} = {value_2}.'\n",
    "    alt_hypo = f'The average {cont} where {cat} = {value_1} is greater than {cat} = {value_2}'\n",
    "    # set alpha\n",
    "    alpha = .05\n",
    "    # set the value for comparison\n",
    "    value_1 = df[df[cat] == value_1]\n",
    "    value_2 = df[df[cat] == value_2]\n",
    "    # make the needed values\n",
    "    μ = df[cont].mean()\n",
    "    xbar = df[cont].mean()\n",
    "    s = df[cont].std()\n",
    "    n = df.shape[0]\n",
    "    degf = n - 1\n",
    "    standard_error = s / sqrt(n)\n",
    "    t = (xbar - μ) / (s / sqrt(n))\n",
    "    p = stats.t(degf).sf(t)\n",
    "    if (p/2) < alpha and t < 0:\n",
    "        print(f'Reject the null hypothesis that: \\n {null_hypo}')\n",
    "        print(alt_hypo)\n",
    "    else:\n",
    "        print(null_hypo)"
   ]
  },
  {
   "cell_type": "code",
   "execution_count": 142,
   "metadata": {},
   "outputs": [
    {
     "name": "stdout",
     "output_type": "stream",
     "text": [
      "There is no difference in the mean of Speed with type_1 = Grass and type_1 = Fire.\n"
     ]
    }
   ],
   "source": [
    "two_sample_one_tail_ttest_lesser(df, 'type_1', 'Speed', 'Grass', 'Fire')"
   ]
  },
  {
   "cell_type": "code",
   "execution_count": null,
   "metadata": {},
   "outputs": [],
   "source": []
  }
 ],
 "metadata": {
  "kernelspec": {
   "display_name": "Python 3",
   "language": "python",
   "name": "python3"
  },
  "language_info": {
   "codemirror_mode": {
    "name": "ipython",
    "version": 3
   },
   "file_extension": ".py",
   "mimetype": "text/x-python",
   "name": "python",
   "nbconvert_exporter": "python",
   "pygments_lexer": "ipython3",
   "version": "3.8.5"
  }
 },
 "nbformat": 4,
 "nbformat_minor": 4
}
