{
 "cells": [
  {
   "cell_type": "code",
   "execution_count": 1,
   "metadata": {},
   "outputs": [],
   "source": [
    "import pandas as pd\n",
    "import numpy as np\n",
    "\n",
    "import seaborn as sns\n",
    "import matplotlib.pyplot as plt"
   ]
  },
  {
   "cell_type": "code",
   "execution_count": 4,
   "metadata": {},
   "outputs": [],
   "source": [
    "df = pd.read_csv('pokemon.csv')"
   ]
  },
  {
   "cell_type": "markdown",
   "metadata": {},
   "source": [
    "___\n",
    "### Univariate Continuous Explore Loop\n",
    "\n",
    "This function "
   ]
  },
  {
   "cell_type": "code",
   "execution_count": 112,
   "metadata": {},
   "outputs": [],
   "source": [
    "def cont_univariate(df, variable):\n",
    "    '''Takes in df, and reads each individual feature \n",
    "    plot a boxplot and a histogram for each feature'''\n",
    "    # create boxplot\n",
    "    plt.figure(figsize=(30,10))\n",
    "    sns.set(font_scale = 2)\n",
    "    sns.set_style(\"whitegrid\", {'axes.grid' : False})\n",
    "    plt.subplot(1, 2, 1)\n",
    "    sns.boxplot(x=variable, data=df, color='lightseagreen')\n",
    "    plt.xlabel('')\n",
    "    plt.title('Box Plot', fontsize=30)\n",
    "    # create histogram\n",
    "    plt.subplot(1, 2, 2)\n",
    "    sns.histplot(data=df, x=variable, element='step', kde=True, color='seagreen', edgecolor='black')\n",
    "    plt.xlabel('')\n",
    "    plt.ylabel('')\n",
    "    plt.title('Distribution', fontsize=30)\n",
    "    # set title for the plots\n",
    "    plt.suptitle(f'{variable}', fontsize = 45)\n",
    "    plt.tight_layout()\n",
    "    plt.show()\n",
    "    \n",
    "    \n",
    "def univariate_for_loop(df):\n",
    "    '''puts univariate explore function into a loop\n",
    "    which loops through each feature\n",
    "    note that it cant handle strings'''\n",
    "    # create list of features for the loop\n",
    "    cont_features = df[['HP', 'Attack', 'Defense', \n",
    "                       'Sp. Atk', 'Sp. Def', 'Speed']]\n",
    "    # create the loop\n",
    "    for x in cont_features:\n",
    "        # take in the explore univariate function\n",
    "        cont_univariate(df, x)\n",
    "        # Create a statistical summary to add to the end\n",
    "        print(f'Summary for {x}\\n{df[x].describe()}')\n",
    "        print(f'_________________________________________________ \\n')\n",
    "        print(f'Summary for {x}\\n{df[x].value_counts()}')\n",
    "        print(f'_________________________________________________ \\n')"
   ]
  },
  {
   "cell_type": "code",
   "execution_count": 114,
   "metadata": {},
   "outputs": [],
   "source": [
    "#univariate_for_loop(df)"
   ]
  },
  {
   "cell_type": "markdown",
   "metadata": {},
   "source": [
    "___\n",
    "### Univariate Categorical Loop\n",
    "\n",
    "This function "
   ]
  },
  {
   "cell_type": "code",
   "execution_count": 115,
   "metadata": {},
   "outputs": [],
   "source": [
    "def uni_cat(data, variable):\n",
    "    '''\n",
    "    takes in a dataframe and a variable, and plots a countplot \n",
    "    '''\n",
    "    plt.figure(figsize=(30,6))\n",
    "    sns.countplot(data=data, x=variable, palette='mako')\n",
    "    plt.show()\n",
    "    return pd.crosstab(index=data[variable], columns='count')\n",
    "\n",
    "def uni_cat_loop(df):\n",
    "    '''puts univariate explore function into a loop\n",
    "    which loops through each feature\n",
    "    note that it cant handle strings'''\n",
    "    # create list of features for the loop\n",
    "    cat_features = df[['Type 1', 'Type 2', 'Generation', 'Legendary']]\n",
    "    # create the loop\n",
    "    for variable in cat_features:\n",
    "        # take in the explore univariate function\n",
    "        uni_cat(df, variable)\n",
    "        # Create a statistical summary to add to the end\n",
    "        print(f'Summary for {variable}\\n{df[variable].describe()}')\n",
    "        print(f'_________________________________________________ \\n')"
   ]
  },
  {
   "cell_type": "code",
   "execution_count": 116,
   "metadata": {},
   "outputs": [
    {
     "ename": "NameError",
     "evalue": "name 'uni_cat_count_loop' is not defined",
     "output_type": "error",
     "traceback": [
      "\u001b[0;31m--------------------\u001b[0m",
      "\u001b[0;31mNameError\u001b[0mTraceback (most recent call last)",
      "\u001b[0;32m<ipython-input-116-393e1927c314>\u001b[0m in \u001b[0;36m<module>\u001b[0;34m\u001b[0m\n\u001b[0;32m----> 1\u001b[0;31m \u001b[0muni_cat_count_loop\u001b[0m\u001b[0;34m(\u001b[0m\u001b[0mdf\u001b[0m\u001b[0;34m)\u001b[0m\u001b[0;34m\u001b[0m\u001b[0;34m\u001b[0m\u001b[0m\n\u001b[0m",
      "\u001b[0;31mNameError\u001b[0m: name 'uni_cat_count_loop' is not defined"
     ]
    }
   ],
   "source": [
    "uni_cat_count_loop(df)"
   ]
  },
  {
   "cell_type": "code",
   "execution_count": null,
   "metadata": {},
   "outputs": [],
   "source": []
  }
 ],
 "metadata": {
  "kernelspec": {
   "display_name": "Python 3",
   "language": "python",
   "name": "python3"
  },
  "language_info": {
   "codemirror_mode": {
    "name": "ipython",
    "version": 3
   },
   "file_extension": ".py",
   "mimetype": "text/x-python",
   "name": "python",
   "nbconvert_exporter": "python",
   "pygments_lexer": "ipython3",
   "version": "3.8.5"
  }
 },
 "nbformat": 4,
 "nbformat_minor": 4
}
